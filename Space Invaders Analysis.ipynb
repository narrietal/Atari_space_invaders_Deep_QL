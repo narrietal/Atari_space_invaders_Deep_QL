{
 "cells": [
  {
   "cell_type": "markdown",
   "metadata": {
    "id": "RODXQ3gvBbsP"
   },
   "source": [
    "# Space Invaders Analysis - Deep-Q-learning\n",
    "\n",
    "Authors: Nicolás Arrieta Larraza and Thuany Stuart\n",
    "\n",
    "Date: 06/05/2021"
   ]
  },
  {
   "cell_type": "markdown",
   "metadata": {},
   "source": [
    "## Introduction\n",
    "\n",
    "---\n",
    "\n",
    "This notebook is composed of 2 sections:\n",
    "\n",
    "**A)** Analyzing the training results of the models with different values of gamma\n",
    "\n",
    "**B)** Testing the trained models with different values of gamma"
   ]
  },
  {
   "cell_type": "markdown",
   "metadata": {},
   "source": [
    "## A - Model comparison for several values of gamma\n",
    "\n",
    "---\n",
    "\n",
    "In this section we will analyze the training results of the final model for the following values of gamma:\n",
    "* Gamma = 0.7\n",
    "* Gamma = 0.99\n",
    "* Gamma = 0.999\n",
    "\n",
    "And we will compare them with the performance of a random agent\n"
   ]
  },
  {
   "cell_type": "markdown",
   "metadata": {},
   "source": [
    "### Import Libraries"
   ]
  },
  {
   "cell_type": "code",
   "execution_count": 66,
   "metadata": {},
   "outputs": [
    {
     "data": {
      "text/plain": [
       "'/home/narrietal/Documents/University/AI/SpaceInvaders'"
      ]
     },
     "execution_count": 66,
     "metadata": {},
     "output_type": "execute_result"
    }
   ],
   "source": [
    "import numpy as np\n",
    "import os\n",
    "import sys\n",
    "import random\n",
    "import gym\n",
    "import tensorflow as tf\n",
    "from tensorflow.keras.models import load_model\n",
    "import matplotlib.pyplot as plt\n",
    "from tqdm.notebook import tqdm\n",
    "from numpy import genfromtxt\n",
    "\n",
    "path = os.path.abspath('')\n",
    "path"
   ]
  },
  {
   "cell_type": "markdown",
   "metadata": {},
   "source": [
    "### Defining functions"
   ]
  },
  {
   "cell_type": "markdown",
   "metadata": {},
   "source": [
    "Function to compute average of training models"
   ]
  },
  {
   "cell_type": "code",
   "execution_count": 209,
   "metadata": {},
   "outputs": [],
   "source": [
    "def compute_models_average(models_rewards):\n",
    "    window_size = 100\n",
    "    models_moving_avg = []\n",
    "    gammas = [0.7,0.99,0.999]\n",
    "    \n",
    "    for rewards in models_rewards:\n",
    "        i = 0\n",
    "        moving_averages = []\n",
    "\n",
    "        while i < len(rewards) - window_size + 1:\n",
    "\n",
    "            this_window = rewards[i : i + window_size]\n",
    "\n",
    "            window_average = np.sum(this_window) / window_size\n",
    "\n",
    "            moving_averages.append(window_average)\n",
    "\n",
    "            i += 1\n",
    "            \n",
    "        models_moving_avg.append(moving_averages)\n",
    "        \n",
    "    \n",
    "    fig=plt.figure(figsize=(20, 12))\n",
    "    for i in range(len(models_rewards)):\n",
    "      plt.subplot(2,2,i+1)\n",
    "      plt.plot(range(len(moving_averages)), models_moving_avg[i],label=str(gammas[i]))\n",
    "      plt.legend()\n",
    "      plt.title('Moving average of model with gamma value {}'.format(str(gammas[i]))) \n",
    "      plt.xlabel('Episode')\n",
    "      plt.ylabel('Average reward')\n",
    "    plt.show() "
   ]
  },
  {
   "cell_type": "markdown",
   "metadata": {},
   "source": [
    "Function to compute average of randoma agent"
   ]
  },
  {
   "cell_type": "code",
   "execution_count": 205,
   "metadata": {},
   "outputs": [],
   "source": [
    "def compute_random_agent_avg(rewards):\n",
    "    window_size = 100\n",
    "    \n",
    "    i = 0\n",
    "    moving_averages = []\n",
    "\n",
    "    while i < len(rewards) - window_size + 1:\n",
    "\n",
    "        this_window = rewards[i : i + window_size]\n",
    "\n",
    "        window_average = np.sum(this_window) / window_size\n",
    "\n",
    "        moving_averages.append(window_average)\n",
    "\n",
    "        i += 1\n",
    "\n",
    "    plt.plot(range(len(moving_averages)), moving_averages,label=\"random\")\n",
    "    plt.legend()\n",
    "    plt.title('Moving average of model with random agent')\n",
    "    plt.xlabel('Episode')\n",
    "    plt.ylabel('Average reward')\n",
    "    plt.show() "
   ]
  },
  {
   "cell_type": "markdown",
   "metadata": {},
   "source": [
    "Function to test agents"
   ]
  },
  {
   "cell_type": "code",
   "execution_count": 224,
   "metadata": {},
   "outputs": [],
   "source": [
    "def test_agent(env, model, iterations):\n",
    "    reward_per_ep = []\n",
    "    for i in tqdm(range(iterations)):\n",
    "        # Initialize state and variables\n",
    "        observation = env.reset()\n",
    "        done = False\n",
    "        \n",
    "        total_ep_reward = 0\n",
    "\n",
    "        while not done:\n",
    "\n",
    "            if model is not None:\n",
    "                #predicting q values\n",
    "                observation = observation.reshape(1, -1)/255\n",
    "            \n",
    "                q_list = model.predict(observation).flatten()\n",
    "\n",
    "                # Choose the optimum policy, the one that maximizes the value\n",
    "                action = np.argmax(q_list)\n",
    "            else:\n",
    "                action = env.action_space.sample()\n",
    "\n",
    "            # Add step to the memory\n",
    "            new_observation, reward, done, info = env.step(action)\n",
    "            \n",
    "            total_ep_reward += reward\n",
    "            # Update state\n",
    "            observation = new_observation\n",
    "        \n",
    "        reward_per_ep.append(total_ep_reward)\n",
    "        \n",
    "    env.close()\n",
    "    return reward_per_ep"
   ]
  },
  {
   "cell_type": "markdown",
   "metadata": {},
   "source": [
    "### Import training results"
   ]
  },
  {
   "cell_type": "code",
   "execution_count": 200,
   "metadata": {},
   "outputs": [],
   "source": [
    "rewards_episode_gamma_07 = genfromtxt('./gamma_07/reward_per_episode_gamma_0_7.csv', delimiter=',')\n",
    "rewards_episode_gamma_099 = genfromtxt('./gamma_099/reward_per_episode_gamma_0_99.csv', delimiter=',')\n",
    "rewards_episode_gamma_0999 = genfromtxt('./gamma_0999/reward_per_episode_gamma_0_999.csv', delimiter=',')\n",
    "models_rewards = [rewards_episode_gamma_07, rewards_episode_gamma_099, rewards_episode_gamma_0999]"
   ]
  },
  {
   "cell_type": "markdown",
   "metadata": {},
   "source": [
    "### Obtaining rewards of random agent"
   ]
  },
  {
   "cell_type": "markdown",
   "metadata": {},
   "source": [
    "Setting up GYM enviroment with Atari's game Space Invaders in RAM version and setting the same frameskipping as in training."
   ]
  },
  {
   "cell_type": "code",
   "execution_count": 202,
   "metadata": {},
   "outputs": [
    {
     "data": {
      "application/vnd.jupyter.widget-view+json": {
       "model_id": "0d362b4a0bf145f287fa2ca917586048",
       "version_major": 2,
       "version_minor": 0
      },
      "text/plain": [
       "  0%|          | 0/600 [00:00<?, ?it/s]"
      ]
     },
     "metadata": {},
     "output_type": "display_data"
    }
   ],
   "source": [
    "env = gym.make('SpaceInvaders-ram-v0', frameskip=3)\n",
    "random_agent_rewards = test_agent(env, None, 600)"
   ]
  },
  {
   "cell_type": "markdown",
   "metadata": {},
   "source": [
    "### Visualizing results"
   ]
  },
  {
   "cell_type": "markdown",
   "metadata": {},
   "source": [
    "First we show the average of the rewards per episode of the trained models"
   ]
  },
  {
   "cell_type": "code",
   "execution_count": 210,
   "metadata": {
    "scrolled": true
   },
   "outputs": [
    {
     "data": {
      "image/png": "[encoded data removed]",
      "text/plain": [
       "<Figure size 1440x864 with 3 Axes>"
      ]
     },
     "metadata": {
      "needs_background": "light"
     },
     "output_type": "display_data"
    }
   ],
   "source": [
    "compute_models_average(models_rewards)"
   ]
  },
  {
   "cell_type": "markdown",
   "metadata": {},
   "source": [
    "And below one can find the average of rewards per episode of the random agent"
   ]
  },
  {
   "cell_type": "code",
   "execution_count": 211,
   "metadata": {},
   "outputs": [
    {
     "data": {
      "image/png": "[encoded data removed]",
      "text/plain": [
       "<Figure size 432x288 with 1 Axes>"
      ]
     },
     "metadata": {
      "needs_background": "light"
     },
     "output_type": "display_data"
    }
   ],
   "source": [
    "compute_random_agent_avg(random_agent_rewards)"
   ]
  },
  {
   "cell_type": "markdown",
   "metadata": {},
   "source": [
    "We can observe that every trained model present an increment of the average in time which shows how the models are successfully learning. The curve, although noisy, shows an overall increment which is lacking in case of the random agent as we can see.\n",
    "\n",
    "The average values between the trained models do not change drastically. However we can see an exponential with less fluctuations and higher values in case of the model with gamma 0.99."
   ]
  },
  {
   "cell_type": "markdown",
   "metadata": {},
   "source": [
    "## B - Testing the model for several values of gamma\n",
    "\n",
    "---\n",
    "\n",
    "In this section we will test the final model for the following values of gamma:\n",
    "\n",
    "* Gamma = 0.7\n",
    "* Gamma = 0.99\n",
    "* Gamma = 0.999"
   ]
  },
  {
   "cell_type": "markdown",
   "metadata": {},
   "source": [
    "### Importing models"
   ]
  },
  {
   "cell_type": "code",
   "execution_count": 212,
   "metadata": {},
   "outputs": [],
   "source": [
    "model_07 = load_model('./gamma_07/model_9_gamma_0_7')\n",
    "model_099 = load_model('./gamma_099/model_9_gamma_0_99')\n",
    "model_0999 = load_model('./gamma_0999/model_9_gamma_0_999')"
   ]
  },
  {
   "cell_type": "markdown",
   "metadata": {},
   "source": [
    "### Testing"
   ]
  },
  {
   "cell_type": "markdown",
   "metadata": {},
   "source": [
    "In this section we will test the 3 trained models and compare its average values"
   ]
  },
  {
   "cell_type": "code",
   "execution_count": 225,
   "metadata": {
    "scrolled": true
   },
   "outputs": [
    {
     "data": {
      "application/vnd.jupyter.widget-view+json": {
       "model_id": "836afe35a0604293b9d0dc2a13101f29",
       "version_major": 2,
       "version_minor": 0
      },
      "text/plain": [
       "  0%|          | 0/5 [00:00<?, ?it/s]"
      ]
     },
     "metadata": {},
     "output_type": "display_data"
    }
   ],
   "source": [
    "model_07_test_rewards=test_agent(env, model_07, 5)"
   ]
  },
  {
   "cell_type": "code",
   "execution_count": 229,
   "metadata": {},
   "outputs": [
    {
     "name": "stdout",
     "output_type": "stream",
     "text": [
      "Average reward:  32.0 \n",
      " Maximum reward:  50.0 \n",
      " Minimum reward:  10.0\n"
     ]
    }
   ],
   "source": [
    "print(\"Average reward: \",np.mean(model_07_test_rewards), \n",
    "      \"\\n Maximum reward: \", np.max(model_07_test_rewards),\n",
    "      \"\\n Minimum reward: \", np.min(model_07_test_rewards))"
   ]
  },
  {
   "cell_type": "code",
   "execution_count": 227,
   "metadata": {},
   "outputs": [
    {
     "data": {
      "application/vnd.jupyter.widget-view+json": {
       "model_id": "a81e0ad6c91840d689931aebfc2d89c0",
       "version_major": 2,
       "version_minor": 0
      },
      "text/plain": [
       "  0%|          | 0/5 [00:00<?, ?it/s]"
      ]
     },
     "metadata": {},
     "output_type": "display_data"
    }
   ],
   "source": [
    "model_099_test_rewards=test_agent(env, model_099, 5)"
   ]
  },
  {
   "cell_type": "code",
   "execution_count": 230,
   "metadata": {},
   "outputs": [
    {
     "name": "stdout",
     "output_type": "stream",
     "text": [
      "Average reward:  168.0 \n",
      " Maximum reward:  370.0 \n",
      " Minimum reward:  50.0\n"
     ]
    }
   ],
   "source": [
    "print(\"Average reward: \",np.mean(model_099_test_rewards), \n",
    "      \"\\n Maximum reward: \", np.max(model_099_test_rewards),\n",
    "      \"\\n Minimum reward: \", np.min(model_099_test_rewards))"
   ]
  },
  {
   "cell_type": "code",
   "execution_count": 228,
   "metadata": {},
   "outputs": [
    {
     "data": {
      "application/vnd.jupyter.widget-view+json": {
       "model_id": "a32847066af243b591054a865488dd2f",
       "version_major": 2,
       "version_minor": 0
      },
      "text/plain": [
       "  0%|          | 0/5 [00:00<?, ?it/s]"
      ]
     },
     "metadata": {},
     "output_type": "display_data"
    }
   ],
   "source": [
    "model_0999_test_rewards=test_agent(env, model_0999, 5)"
   ]
  },
  {
   "cell_type": "code",
   "execution_count": 231,
   "metadata": {},
   "outputs": [
    {
     "name": "stdout",
     "output_type": "stream",
     "text": [
      "Average reward:  78.0 \n",
      " Maximum reward:  135.0 \n",
      " Minimum reward:  40.0\n"
     ]
    }
   ],
   "source": [
    "print(\"Average reward: \",np.mean(model_0999_test_rewards), \n",
    "      \"\\n Maximum reward: \", np.max(model_0999_test_rewards),\n",
    "      \"\\n Minimum reward: \", np.min(model_0999_test_rewards))"
   ]
  },
  {
   "cell_type": "markdown",
   "metadata": {},
   "source": [
    "As we can observe, the model with best performance was clearly the model with gamma 0.99"
   ]
  }
 ],
 "metadata": {
  "accelerator": "GPU",
  "colab": {
   "collapsed_sections": [],
   "name": "Space Invaders - Test.ipynb",
   "provenance": []
  },
  "kernelspec": {
   "display_name": "Python 3",
   "language": "python",
   "name": "python3"
  },
  "language_info": {
   "codemirror_mode": {
    "name": "ipython",
    "version": 3
   },
   "file_extension": ".py",
   "mimetype": "text/x-python",
   "name": "python",
   "nbconvert_exporter": "python",
   "pygments_lexer": "ipython3",
   "version": "3.8.3"
  },
  "widgets": {
   "application/vnd.jupyter.widget-state+json": {
    "05cd811d84d640c0ab4aedc6b4c1e6c2": {
     "model_module": "@jupyter-widgets/controls",
     "model_name": "DescriptionStyleModel",
     "state": {
      "_model_module": "@jupyter-widgets/controls",
      "_model_module_version": "1.5.0",
      "_model_name": "DescriptionStyleModel",
      "_view_count": null,
      "_view_module": "@jupyter-widgets/base",
      "_view_module_version": "1.2.0",
      "_view_name": "StyleView",
      "description_width": ""
     }
    },
    "1bf5994dc49e49d2b3c5d2efe1a6a957": {
     "model_module": "@jupyter-widgets/base",
     "model_name": "LayoutModel",
     "state": {
      "_model_module": "@jupyter-widgets/base",
      "_model_module_version": "1.2.0",
      "_model_name": "LayoutModel",
      "_view_count": null,
      "_view_module": "@jupyter-widgets/base",
      "_view_module_version": "1.2.0",
      "_view_name": "LayoutView",
      "align_content": null,
      "align_items": null,
      "align_self": null,
      "border": null,
      "bottom": null,
      "display": null,
      "flex": null,
      "flex_flow": null,
      "grid_area": null,
      "grid_auto_columns": null,
      "grid_auto_flow": null,
      "grid_auto_rows": null,
      "grid_column": null,
      "grid_gap": null,
      "grid_row": null,
      "grid_template_areas": null,
      "grid_template_columns": null,
      "grid_template_rows": null,
      "height": null,
      "justify_content": null,
      "justify_items": null,
      "left": null,
      "margin": null,
      "max_height": null,
      "max_width": null,
      "min_height": null,
      "min_width": null,
      "object_fit": null,
      "object_position": null,
      "order": null,
      "overflow": null,
      "overflow_x": null,
      "overflow_y": null,
      "padding": null,
      "right": null,
      "top": null,
      "visibility": null,
      "width": null
     }
    },
    "3b1df945541745e19ef26cd677f4a989": {
     "model_module": "@jupyter-widgets/base",
     "model_name": "LayoutModel",
     "state": {
      "_model_module": "@jupyter-widgets/base",
      "_model_module_version": "1.2.0",
      "_model_name": "LayoutModel",
      "_view_count": null,
      "_view_module": "@jupyter-widgets/base",
      "_view_module_version": "1.2.0",
      "_view_name": "LayoutView",
      "align_content": null,
      "align_items": null,
      "align_self": null,
      "border": null,
      "bottom": null,
      "display": null,
      "flex": null,
      "flex_flow": null,
      "grid_area": null,
      "grid_auto_columns": null,
      "grid_auto_flow": null,
      "grid_auto_rows": null,
      "grid_column": null,
      "grid_gap": null,
      "grid_row": null,
      "grid_template_areas": null,
      "grid_template_columns": null,
      "grid_template_rows": null,
      "height": null,
      "justify_content": null,
      "justify_items": null,
      "left": null,
      "margin": null,
      "max_height": null,
      "max_width": null,
      "min_height": null,
      "min_width": null,
      "object_fit": null,
      "object_position": null,
      "order": null,
      "overflow": null,
      "overflow_x": null,
      "overflow_y": null,
      "padding": null,
      "right": null,
      "top": null,
      "visibility": null,
      "width": null
     }
    },
    "5ac998f34e1c49b697a848e2f3feade0": {
     "model_module": "@jupyter-widgets/controls",
     "model_name": "ProgressStyleModel",
     "state": {
      "_model_module": "@jupyter-widgets/controls",
      "_model_module_version": "1.5.0",
      "_model_name": "ProgressStyleModel",
      "_view_count": null,
      "_view_module": "@jupyter-widgets/base",
      "_view_module_version": "1.2.0",
      "_view_name": "StyleView",
      "bar_color": null,
      "description_width": "initial"
     }
    },
    "62d750ba566e4cdf8d47b9626eae2ed7": {
     "model_module": "@jupyter-widgets/controls",
     "model_name": "FloatProgressModel",
     "state": {
      "_dom_classes": [],
      "_model_module": "@jupyter-widgets/controls",
      "_model_module_version": "1.5.0",
      "_model_name": "FloatProgressModel",
      "_view_count": null,
      "_view_module": "@jupyter-widgets/controls",
      "_view_module_version": "1.5.0",
      "_view_name": "ProgressView",
      "bar_style": "success",
      "description": "100%",
      "description_tooltip": null,
      "layout": "IPY_MODEL_c9f3fc4cb7d748b2b1fddb60665d7cb4",
      "max": 300,
      "min": 0,
      "orientation": "horizontal",
      "style": "IPY_MODEL_5ac998f34e1c49b697a848e2f3feade0",
      "value": 300
     }
    },
    "c9f3fc4cb7d748b2b1fddb60665d7cb4": {
     "model_module": "@jupyter-widgets/base",
     "model_name": "LayoutModel",
     "state": {
      "_model_module": "@jupyter-widgets/base",
      "_model_module_version": "1.2.0",
      "_model_name": "LayoutModel",
      "_view_count": null,
      "_view_module": "@jupyter-widgets/base",
      "_view_module_version": "1.2.0",
      "_view_name": "LayoutView",
      "align_content": null,
      "align_items": null,
      "align_self": null,
      "border": null,
      "bottom": null,
      "display": null,
      "flex": null,
      "flex_flow": null,
      "grid_area": null,
      "grid_auto_columns": null,
      "grid_auto_flow": null,
      "grid_auto_rows": null,
      "grid_column": null,
      "grid_gap": null,
      "grid_row": null,
      "grid_template_areas": null,
      "grid_template_columns": null,
      "grid_template_rows": null,
      "height": null,
      "justify_content": null,
      "justify_items": null,
      "left": null,
      "margin": null,
      "max_height": null,
      "max_width": null,
      "min_height": null,
      "min_width": null,
      "object_fit": null,
      "object_position": null,
      "order": null,
      "overflow": null,
      "overflow_x": null,
      "overflow_y": null,
      "padding": null,
      "right": null,
      "top": null,
      "visibility": null,
      "width": null
     }
    },
    "e6d891b530554002b409d1b04df56a55": {
     "model_module": "@jupyter-widgets/controls",
     "model_name": "HTMLModel",
     "state": {
      "_dom_classes": [],
      "_model_module": "@jupyter-widgets/controls",
      "_model_module_version": "1.5.0",
      "_model_name": "HTMLModel",
      "_view_count": null,
      "_view_module": "@jupyter-widgets/controls",
      "_view_module_version": "1.5.0",
      "_view_name": "HTMLView",
      "description": "",
      "description_tooltip": null,
      "layout": "IPY_MODEL_3b1df945541745e19ef26cd677f4a989",
      "placeholder": "​",
      "style": "IPY_MODEL_05cd811d84d640c0ab4aedc6b4c1e6c2",
      "value": " 300/300 [1:19:43&lt;00:00, 15.94s/it]"
     }
    },
    "f40203d194cf45c2869469e32d1710bd": {
     "model_module": "@jupyter-widgets/controls",
     "model_name": "HBoxModel",
     "state": {
      "_dom_classes": [],
      "_model_module": "@jupyter-widgets/controls",
      "_model_module_version": "1.5.0",
      "_model_name": "HBoxModel",
      "_view_count": null,
      "_view_module": "@jupyter-widgets/controls",
      "_view_module_version": "1.5.0",
      "_view_name": "HBoxView",
      "box_style": "",
      "children": [
       "IPY_MODEL_62d750ba566e4cdf8d47b9626eae2ed7",
       "IPY_MODEL_e6d891b530554002b409d1b04df56a55"
      ],
      "layout": "IPY_MODEL_1bf5994dc49e49d2b3c5d2efe1a6a957"
     }
    }
   }
  }
 },
 "nbformat": 4,
 "nbformat_minor": 1
}
